{
  "nbformat": 4,
  "nbformat_minor": 0,
  "metadata": {
    "colab": {
      "name": "Guided Project - Dream Premier League.ipynb",
      "provenance": [],
      "collapsed_sections": [
        "747H1msbg-ns",
        "YypMEr-i7fCE",
        "iM1FJFlWh7C5",
        "se80XQGBGekX"
      ],
      "include_colab_link": true
    },
    "kernelspec": {
      "name": "python3",
      "display_name": "Python 3"
    }
  },
  "cells": [
    {
      "cell_type": "markdown",
      "metadata": {
        "id": "view-in-github",
        "colab_type": "text"
      },
      "source": [
        "<a href=\"https://colab.research.google.com/github/cholaterahul/Experiments/blob/master/Guided_Project_Dream_Premier_League.ipynb\" target=\"_parent\"><img src=\"https://colab.research.google.com/assets/colab-badge.svg\" alt=\"Open In Colab\"/></a>"
      ]
    },
    {
      "cell_type": "markdown",
      "metadata": {
        "id": "8hjlpv4ix8LQ"
      },
      "source": [
        "# <u>Dream Premier League (DPL)</u>\n",
        "\n",
        "### A match of DPL is going on. Team Aravali has a made score of **195** for **7** in **20** overs and the opponent Team Shivalik is doing some analytics to find out what they need to do to win. You are the Data Scientist of the Team Shivalik and you have been asked to help them."
      ]
    },
    {
      "cell_type": "markdown",
      "metadata": {
        "id": "JkqzpQzX54Z-"
      },
      "source": [
        "## <u>Problem 1</u>\n",
        " \n",
        "###Team Shivalik has stored the runs made by Team Aravali players in the following dictionary.\n",
        "\n"
      ]
    },
    {
      "cell_type": "code",
      "metadata": {
        "id": "rypcBaB37JMD"
      },
      "source": [
        "aravali ={ \"Dhoni\":25, \"Virat\":31, \"Pollard\":11, \"Rohit\": 0, \"Maxwell\":12, \"Sachin\":59, \"Sehwag\":12 }"
      ],
      "execution_count": null,
      "outputs": []
    },
    {
      "cell_type": "markdown",
      "metadata": {
        "id": "747H1msbg-ns"
      },
      "source": [
        "### Get the list of all players in Team Aravali"
      ]
    },
    {
      "cell_type": "code",
      "metadata": {
        "id": "poP0TCGdhLuj",
        "colab": {
          "base_uri": "https://localhost:8080/"
        },
        "outputId": "04b8a002-456f-4d2f-bf89-68bad89c0bd2"
      },
      "source": [
        "# Get the list of players in Team Aravali\n",
        "aravali_players=list(aravali.keys())\n",
        "print(aravali_players)"
      ],
      "execution_count": null,
      "outputs": [
        {
          "output_type": "stream",
          "name": "stdout",
          "text": [
            "['Dhoni', 'Virat', 'Pollard', 'Rohit', 'Maxwell', 'Sachin', 'Sehwag']\n"
          ]
        }
      ]
    },
    {
      "cell_type": "markdown",
      "metadata": {
        "id": "YypMEr-i7fCE"
      },
      "source": [
        "## <u>Problem 2</u>\n",
        "\n",
        "### By mistake, the runs made by Rohit was recorded as <code>0</code>. Your next task is to figure out how many runs were made by Rohit and update the dictionary"
      ]
    },
    {
      "cell_type": "code",
      "metadata": {
        "id": "DZTXlt9I51vd"
      },
      "source": [
        "# We know the total runs\n",
        "score=195\n",
        "runs_by_rohit=score-sum(list(aravali.values()))"
      ],
      "execution_count": null,
      "outputs": []
    },
    {
      "cell_type": "code",
      "metadata": {
        "id": "N46LGzE97waZ",
        "colab": {
          "base_uri": "https://localhost:8080/"
        },
        "outputId": "1242dc58-b285-4516-ff18-905625c750f0"
      },
      "source": [
        "# Print runs scored by Rohit\n",
        "print(f'runs scored by rohit is', runs_by_rohit)"
      ],
      "execution_count": null,
      "outputs": [
        {
          "output_type": "stream",
          "name": "stdout",
          "text": [
            "runs scored by rohit is 45\n"
          ]
        }
      ]
    },
    {
      "cell_type": "code",
      "metadata": {
        "id": "4rTAegi67zOq",
        "colab": {
          "base_uri": "https://localhost:8080/"
        },
        "outputId": "27f6111b-afe7-4a6b-a6ea-3437fa23a595"
      },
      "source": [
        "# Update the dictionary with correct value of runs\n",
        "aravali['Rohit']=runs_by_rohit\n",
        "print(aravali)"
      ],
      "execution_count": null,
      "outputs": [
        {
          "output_type": "stream",
          "name": "stdout",
          "text": [
            "{'Dhoni': 25, 'Virat': 31, 'Pollard': 11, 'Rohit': 45, 'Maxwell': 12, 'Sachin': 59, 'Sehwag': 12}\n"
          ]
        }
      ]
    },
    {
      "cell_type": "markdown",
      "metadata": {
        "id": "iM1FJFlWh7C5"
      },
      "source": [
        "## <u>Problem 3</u>\n",
        "\n",
        "#### Your next task is to find out who scored the second highest runs in Team Aravali"
      ]
    },
    {
      "cell_type": "code",
      "metadata": {
        "id": "YPdfTlsKiWVx",
        "colab": {
          "base_uri": "https://localhost:8080/"
        },
        "outputId": "02be67b2-5ba2-47e9-ecb2-a77975ea317d"
      },
      "source": [
        "# Your code below\n",
        "score_list_aravali=list(aravali.values())\n",
        "aravali_players=list(aravali.keys())\n",
        "print(score_list_aravali)\n",
        "print(aravali_players)\n",
        "max_score_index=score_list_aravali.index(max(score_list_aravali))\n",
        "print(max_score_index)\n",
        "high_score_player=aravali_players[max_score_index]\n",
        "print(f'Highest run scorer is {high_score_player}')"
      ],
      "execution_count": null,
      "outputs": [
        {
          "output_type": "stream",
          "name": "stdout",
          "text": [
            "[25, 31, 11, 45, 12, 59, 12]\n",
            "['Dhoni', 'Virat', 'Pollard', 'Rohit', 'Maxwell', 'Sachin', 'Sehwag']\n",
            "5\n",
            "Highest run scorer is Sachin\n"
          ]
        }
      ]
    },
    {
      "cell_type": "code",
      "source": [
        "score_list_aravali=list(aravali.values())\n",
        "aravali_players=list(aravali.keys())\n",
        "high_score_list=sorted(score_list_aravali,reverse=True)\n",
        "print(high_score_list)\n",
        "second_high_score=high_score_list[1] #Second high score is calculated after sorting in descending order\n",
        "second_high_score_index=score_list_aravali.index(second_high_score)\n",
        "print(f'The second high scorer in team aravali is',aravali_players[second_high_score_index])"
      ],
      "metadata": {
        "colab": {
          "base_uri": "https://localhost:8080/"
        },
        "id": "UYb3N6PSjXv5",
        "outputId": "fe3194a3-0e0c-4c66-d829-710062ed0a21"
      },
      "execution_count": null,
      "outputs": [
        {
          "output_type": "stream",
          "name": "stdout",
          "text": [
            "[59, 45, 31, 25, 12, 12, 11]\n",
            "The second high scorer in team aravali is Rohit\n"
          ]
        }
      ]
    },
    {
      "cell_type": "markdown",
      "metadata": {
        "id": "se80XQGBGekX"
      },
      "source": [
        "## <u>Problem 4</u>\n",
        "\n",
        "#### Just out of curiosity, you want to find out the unique runs made by Team Aravali players."
      ]
    },
    {
      "cell_type": "code",
      "metadata": {
        "id": "X-XQWW4lGZaG"
      },
      "source": [
        "# Your code below\n",
        "run_set = set(score_list_aravali)"
      ],
      "execution_count": null,
      "outputs": []
    },
    {
      "cell_type": "code",
      "metadata": {
        "id": "GL56nYUzF6hs",
        "colab": {
          "base_uri": "https://localhost:8080/"
        },
        "outputId": "bc612722-ffde-4fd7-f63a-9d72ac890764"
      },
      "source": [
        "# Print the unique runs\n",
        "print(f'Unique runs made by Team Aravali players are :', run_set)"
      ],
      "execution_count": null,
      "outputs": [
        {
          "output_type": "stream",
          "name": "stdout",
          "text": [
            "Unique runs made by Team Aravali players are : {11, 12, 45, 25, 59, 31}\n"
          ]
        }
      ]
    },
    {
      "cell_type": "markdown",
      "metadata": {
        "id": "IJvnHaNzeGMP"
      },
      "source": [
        "## <u>Problem 5</u>\n",
        "#### Team Shivalik has 6 fixed players and 5 slots for players who are playing good currently. Create two collections using appropriate data structure to write this 6 fixed and 5 mutable players. You can choose any player you want.\n",
        "\n",
        "#### Available Players in the squad : \n",
        "<code>['Vijay', 'Lasith', 'Dravid', 'Smith', 'Ambati', 'Hardik', 'Sushant', 'Mandeep', 'Harbhajan', 'Yuvraj', 'Jadeja','Rajeev','Amrit']\n"
      ]
    },
    {
      "cell_type": "code",
      "metadata": {
        "id": "-0hTOMTQdEXE"
      },
      "source": [
        "# Your code below\n",
        "fixed = ('Vijay', 'Lasith', 'Dravid', 'Smith', 'Ambati', 'Hardik')\n",
        "mutable =['Sushant', 'Mandeep', 'Harbhajan', 'Yuvraj', 'Jadeja']"
      ],
      "execution_count": null,
      "outputs": []
    },
    {
      "cell_type": "code",
      "metadata": {
        "id": "1PEvrGDwfjc5",
        "colab": {
          "base_uri": "https://localhost:8080/"
        },
        "outputId": "b4b35102-913e-4e9e-adab-2eef48653afc"
      },
      "source": [
        "# Print them on same line using comma to seperate them\n",
        "print(f'{fixed},{mutable}') #print(fixed,',',mutable); #print(fixed,mutable,sep=',')"
      ],
      "execution_count": null,
      "outputs": [
        {
          "output_type": "stream",
          "name": "stdout",
          "text": [
            "('Vijay', 'Lasith', 'Dravid', 'Smith', 'Ambati', 'Hardik'),['Sushant', 'Mandeep', 'Harbhajan', 'Yuvraj', 'Jadeja']\n"
          ]
        }
      ]
    },
    {
      "cell_type": "markdown",
      "metadata": {
        "id": "N-VdT09NfhL6"
      },
      "source": [
        "## <u>Problem 6</u>\n",
        "Try changing fixed player and mutable player"
      ]
    },
    {
      "cell_type": "code",
      "metadata": {
        "id": "E4lN-bxbffnF",
        "colab": {
          "base_uri": "https://localhost:8080/",
          "height": 183
        },
        "outputId": "ef61d9b5-74d8-49d9-c0ec-6286e135ee4d"
      },
      "source": [
        "# Change fixed player\n",
        "fixed[1]='Amrit'"
      ],
      "execution_count": null,
      "outputs": [
        {
          "output_type": "error",
          "ename": "TypeError",
          "evalue": "ignored",
          "traceback": [
            "\u001b[0;31m---------------------------------------------------------------------------\u001b[0m",
            "\u001b[0;31mTypeError\u001b[0m                                 Traceback (most recent call last)",
            "\u001b[0;32m<ipython-input-16-3f3630749991>\u001b[0m in \u001b[0;36m<module>\u001b[0;34m()\u001b[0m\n\u001b[1;32m      1\u001b[0m \u001b[0;31m# Change fixed player\u001b[0m\u001b[0;34m\u001b[0m\u001b[0;34m\u001b[0m\u001b[0;34m\u001b[0m\u001b[0m\n\u001b[0;32m----> 2\u001b[0;31m \u001b[0mfixed\u001b[0m\u001b[0;34m[\u001b[0m\u001b[0;36m1\u001b[0m\u001b[0;34m]\u001b[0m\u001b[0;34m=\u001b[0m\u001b[0;34m'Amrit'\u001b[0m\u001b[0;34m\u001b[0m\u001b[0;34m\u001b[0m\u001b[0m\n\u001b[0m",
            "\u001b[0;31mTypeError\u001b[0m: 'tuple' object does not support item assignment"
          ]
        }
      ]
    },
    {
      "cell_type": "code",
      "metadata": {
        "id": "mbfWHggRgYJK",
        "colab": {
          "base_uri": "https://localhost:8080/"
        },
        "outputId": "db707cd3-e5d5-4ae3-b72a-c2000b11dc7f"
      },
      "source": [
        "# Change mutable player\n",
        "mutable[1]='Rajeev'\n",
        "mutable"
      ],
      "execution_count": null,
      "outputs": [
        {
          "output_type": "execute_result",
          "data": {
            "text/plain": [
              "['Sushant', 'Rajeev', 'Harbhajan', 'Yuvraj', 'Jadeja']"
            ]
          },
          "metadata": {},
          "execution_count": 73
        }
      ]
    },
    {
      "cell_type": "markdown",
      "metadata": {
        "id": "KHrH5V0HFFhq"
      },
      "source": [
        "## <u> Problem 7</u>\n",
        "\n",
        "#### Find out the runrate required for Team Shivalik to win (for 20 overs)<br> \n",
        "#### Hint: Runrate is runs required per over to win the match"
      ]
    },
    {
      "cell_type": "code",
      "metadata": {
        "id": "QFd1CnS5E79X"
      },
      "source": [
        "# Your code here\n",
        "overs=20 # Total no.of overs in a match is 20\n",
        "runrate = float((score+1)/overs)"
      ],
      "execution_count": null,
      "outputs": []
    },
    {
      "cell_type": "code",
      "metadata": {
        "id": "7f5Mnj93Ft3a",
        "colab": {
          "base_uri": "https://localhost:8080/"
        },
        "outputId": "8cc984d4-3243-49c7-82c6-922b2c43b6c2"
      },
      "source": [
        "# Print the run rate\n",
        "print('Run rate required by Team Shivalik to win the match is',runrate)"
      ],
      "execution_count": null,
      "outputs": [
        {
          "output_type": "stream",
          "name": "stdout",
          "text": [
            "Run rate required by Team Shivalik to win the match is 9.8\n"
          ]
        }
      ]
    },
    {
      "cell_type": "markdown",
      "metadata": {
        "id": "uukQzwZQNwBE"
      },
      "source": [
        "## <u> Problem 8</u>\n",
        "#### You have just received a secret message form your informant stating that some players of the other team are into match fixing. You have to decode a message and inform authorities about it.<br>\n",
        "\n",
        "#### You received a string **\"skdlfjnvuerhw qefnnaosfu qrhviudhfv wuirhv adknlkxjcier vafuvhkajn iuvhsf vasuif KJSHFKJ aeuihvasf akjfhiufe\"** and index of \"i\" are going to be \"no balls\".\n",
        "\n",
        "\n",
        "### Find the first and last no ball from the string."
      ]
    },
    {
      "cell_type": "code",
      "metadata": {
        "id": "qJpki-fNJxvr",
        "colab": {
          "base_uri": "https://localhost:8080/"
        },
        "outputId": "d24cc6d1-7a9f-4b7e-b13b-5b0522d5cdc3"
      },
      "source": [
        "#First no ball\n",
        "message = \"skdlfjnvuerhw qefnnaosfu qrhviudhfv wuirhv adknlkxjcier vafuvhkajn iuvhsf vasuif KJSHFKJ aeuihvasf akjfhiufe\"\n",
        "print('No. of expected No-Balls as per received message are',message.count('i'))\n",
        "print('The occurance of FIRST NO-BALL is at',message.index('i')+1,'th ball')\n",
        "# Last no ball\n",
        "print('Last NO-Ball from as per message is',(len(message))-message[::-1].index('i'),'th ball')"
      ],
      "execution_count": null,
      "outputs": [
        {
          "output_type": "stream",
          "name": "stdout",
          "text": [
            "No. of expected No-Balls as per received message are 7\n",
            "The occurance of FIRST NO-BALL is at 30 th ball\n",
            "Last NO-Ball from as per message is 105 th ball\n"
          ]
        }
      ]
    },
    {
      "cell_type": "code",
      "metadata": {
        "id": "8qMvmZydQAlr",
        "colab": {
          "base_uri": "https://localhost:8080/"
        },
        "outputId": "0332cef7-d3c2-405a-cf74-dbcf0941ef88"
      },
      "source": [
        "# Print the first and last ball numbers\n",
        "print('The occurance of FIRST NO-BALL is at',message.index('i')+1,'th ball')\n",
        "print('Last NO-Ball from as per message is',(len(message))-message[::-1].index('i'),'th ball')"
      ],
      "execution_count": null,
      "outputs": [
        {
          "output_type": "stream",
          "name": "stdout",
          "text": [
            "The occurance of FIRST NO-BALL is at 30 th ball\n",
            "Last NO-Ball from as per message is 105 th ball\n"
          ]
        }
      ]
    },
    {
      "cell_type": "markdown",
      "metadata": {
        "id": "dOIGKmlKaV8j"
      },
      "source": [
        "## <u>Problem 9</u>\n",
        "\n",
        "### You have given the information about fixing to the authorities and they are going to verify it during the match. But still you have to work on your strategy.\n",
        "\n",
        "### It is in your hands to automate the decision on who goes on 4th position for batting depending on following criteria:\n",
        "\n",
        "* if runs made by Team Shivalik is less than 50, Smith will play\n",
        "* if runs are between 51 to 100 then Sir Jadeja will go\n",
        "* if runs are above 100 then Hardik will play"
      ]
    },
    {
      "cell_type": "code",
      "metadata": {
        "id": "DpnGURU1Y-Af",
        "colab": {
          "base_uri": "https://localhost:8080/"
        },
        "outputId": "be381834-74c7-4be4-e807-11d841ee160c"
      },
      "source": [
        "# Your code below\n",
        "shivalik_runs = int(input())\n",
        "\n",
        "if shivalik_runs<50 and shivalik_runs>=0:\n",
        "    print('Smith will play')\n",
        "elif shivalik_runs >50 and shivalik_runs<= 100:\n",
        "    print('Sir Jadeja will go')\n",
        "elif shivalik_runs > 100:\n",
        "    print('Hardik will play')\n",
        "else:\n",
        "    print('Enter valid positive integer input')"
      ],
      "execution_count": null,
      "outputs": [
        {
          "output_type": "stream",
          "name": "stdout",
          "text": [
            "-19\n",
            "Enter valid positive integer input\n"
          ]
        }
      ]
    },
    {
      "cell_type": "markdown",
      "metadata": {
        "id": "kLakmjOYmKMM"
      },
      "source": [
        "# Hurray! Turns out you won the match and the guilty players are punished as well. You should be proud of yourself!"
      ]
    },
    {
      "cell_type": "code",
      "metadata": {
        "id": "8xRCkwJ76n_I"
      },
      "source": [
        ""
      ],
      "execution_count": null,
      "outputs": []
    }
  ]
}